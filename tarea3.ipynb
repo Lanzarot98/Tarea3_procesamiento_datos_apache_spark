{
 "cells": [
  {
   "cell_type": "code",
   "execution_count": null,
   "id": "cf6da2a1-23a1-4acf-993c-d8506a24d642",
   "metadata": {},
   "outputs": [],
   "source": [
    "#Importamos librerias necesarias \n",
    "from pyspark.sql import SparkSession, functions as F \n",
    "import numpy as np"
   ]
  },
  {
   "cell_type": "code",
   "execution_count": null,
   "id": "bcf20c3d-4e13-4b17-8bd6-434fc27977ea",
   "metadata": {},
   "outputs": [],
   "source": [
    "# Inicializa la sesión de Spark \n",
    "spark = SparkSession.builder.appName('Tarea3').getOrCreate() \n",
    "spark.conf.set(\"spark.sql.debug.maxToStringFields\", 100)"
   ]
  },
  {
   "cell_type": "code",
   "execution_count": null,
   "id": "a33f4b6f-c437-4130-9128-6f1b65667d8c",
   "metadata": {},
   "outputs": [],
   "source": [
    "# Define la ruta del archivo .csv en HDFS \n",
    "file_path = 'hdfs://localhost:9000/Tarea3/rows.csv' \n",
    "# Lee el archivo .csv \n",
    "df = spark.read.format('csv').option('header','true').option('inferSchema', 'true').load(file_path) "
   ]
  },
  {
   "cell_type": "code",
   "execution_count": null,
   "id": "c42b4b3e-7dcf-447a-9581-37da2be413d7",
   "metadata": {},
   "outputs": [],
   "source": [
    "#imprimimos el esquema \n",
    "df.printSchema() \n",
    "# Muestra las primeras filas del DataFrame \n",
    "df.show() "
   ]
  },
  {
   "cell_type": "code",
   "execution_count": null,
   "id": "7233eacf-656a-4704-82b3-349e3ae6b15e",
   "metadata": {},
   "outputs": [],
   "source": [
    "# Estadisticas básicas \n",
    "df.summary().show()"
   ]
  },
  {
   "cell_type": "code",
   "execution_count": null,
   "id": "82a0809c-e9c8-410d-a195-d52e64776f93",
   "metadata": {},
   "outputs": [],
   "source": [
    "# Consulta: Filtrar por valor asignado mayor a 50000000 y seleccionar columnas relevantes\n",
    "print(\"Subsidios con valor mayor a 50000000\\n\")\n",
    "subsidios_filtrados = df.filter(F.col('Valor Asignado') > 50000000).select(\n",
    "    'Valor Asignado', 'Año de Asignación', 'Departamento', 'Municipio')\n",
    "subsidios_filtrados.show()"
   ]
  },
  {
   "cell_type": "code",
   "execution_count": null,
   "id": "c919ddae-b511-4b03-9fa3-d737f3e1f296",
   "metadata": {},
   "outputs": [],
   "source": [
    "# Ordenar filas por los valores en la columna \"Valor Asignado\" en orden descendente\n",
    "print(\"Subsidios ordenados de mayor a menor por valor asignado\\n\")\n",
    "subsidios_ordenados = df.sort(F.col(\"Valor Asignado\").desc())\n",
    "subsidios_ordenados.show()"
   ]
  },
  {
   "cell_type": "code",
   "execution_count": null,
   "id": "e6620a92-200f-499a-876e-ba0a5cfadb96",
   "metadata": {},
   "outputs": [],
   "source": [
    "# Contar cuántos subsidios se asignaron por año\n",
    "print(\"Número de subsidios asignados por año\\n\")\n",
    "subsidios_por_anio = df.groupBy('Año de Asignación').count().orderBy('Año de Asignación')\n",
    "subsidios_por_anio.show()"
   ]
  },
  {
   "cell_type": "code",
   "execution_count": null,
   "id": "606e14a5-adab-4601-8259-c0a85a2195a3",
   "metadata": {},
   "outputs": [],
   "source": [
    "# Suma total del valor asignado por departamento\n",
    "print(\"Suma total de valor asignado por departamento\\n\")\n",
    "valor_por_departamento = df.groupBy('Departamento').agg(F.sum('Valor Asignado').alias('Total Asignado')).orderBy(F.col('Total Asignado').desc())\n",
    "valor_por_departamento.show()"
   ]
  },
  {
   "cell_type": "code",
   "execution_count": null,
   "id": "721c65c3-dbc9-429d-931f-518e168db12f",
   "metadata": {},
   "outputs": [],
   "source": [
    "# Filtrar subsidios asignados a un departamento específico\n",
    "departamento_filtro = 'Antioquia'  # Puedes cambiar el valor\n",
    "estado_filtro = 'Asignados' # Puesdes cambiar el valor\n",
    "print(f\"Subsidios asignados en {departamento_filtro}\\n\")\n",
    "subsidios_departamento = df.filter((F.col('Departamento') == departamento_filtro)&(F.col('Estado de Postulación') == estado_filtro))\n",
    "subsidios_departamento.show()"
   ]
  },
  {
   "cell_type": "code",
   "execution_count": null,
   "id": "1edd96a2-35f4-4665-9ef9-153d5921b9d7",
   "metadata": {},
   "outputs": [],
   "source": [
    "# Identificar el municipio con mayor cantidad de subsidios\n",
    "print(\"Municipio con mayor cantidad de subsidios asignados\\n\")\n",
    "municipio_mas_subsidios = df.groupBy('Municipio').count().orderBy(F.col('count').desc()).limit(1)\n",
    "municipio_mas_subsidios.show()"
   ]
  },
  {
   "cell_type": "code",
   "execution_count": null,
   "id": "83155253-9ecd-4e10-9982-f8b74b7dadeb",
   "metadata": {},
   "outputs": [],
   "source": [
    "# Valor promedio de los subsidios por año\n",
    "print(\"Valor promedio de subsidios por año\\n\")\n",
    "valor_promedio_anio = df.groupBy('Año de Asignación').agg(F.avg('Valor Asignado').alias('Valor Promedio')).orderBy('Año de Asignación')\n",
    "valor_promedio_anio.show()"
   ]
  },
  {
   "cell_type": "code",
   "execution_count": null,
   "id": "4c2981d1-4109-4316-9f98-457988da1c2e",
   "metadata": {},
   "outputs": [],
   "source": [
    "# Filtrar subsidios por un rango de años (Ejemplo: 2015-2020)\n",
    "print(\"Subsidios asignados entre 2015 y 2020\\n\")\n",
    "subsidios_rango_anio = df.filter((F.col('Año de Asignación') >= 2015) & (F.col('Año de Asignación') <= 2020))\n",
    "subsidios_rango_anio.show()"
   ]
  },
  {
   "cell_type": "code",
   "execution_count": null,
   "id": "1d885635",
   "metadata": {},
   "outputs": [],
   "source": [
    "# Operaciones adicionales de transformación y EDA\n",
    "# 1. Conversión del DataFrame a RDD para operaciones más complejas\n",
    "rdd = df.rdd"
   ]
  },
  {
   "cell_type": "code",
   "execution_count": null,
   "id": "28062cc2",
   "metadata": {},
   "outputs": [],
   "source": [
    "# 2. Cálculo de la mediana del valor asignado\n",
    "valor_asignado_array = np.array(rdd.map(lambda row: float(row['Valor Asignado'])).collect())\n",
    "mediana_valor = np.median(valor_asignado_array)\n",
    "print(f\"Mediana del valor asignado: {mediana_valor}\")"
   ]
  },
  {
   "cell_type": "code",
   "execution_count": null,
   "id": "5b006725",
   "metadata": {},
   "outputs": [],
   "source": [
    "# 3. Identificación de los 5 departamentos con mayor valor total asignado\n",
    "top_5_departamentos = df.groupBy('Departamento').agg(F.sum('Valor Asignado').alias('Total Asignado')) \\\n",
    "                         .orderBy(F.col('Total Asignado').desc()) \\\n",
    "                         .limit(5)\n",
    "print(\"Top 5 departamentos con mayor valor total asignado:\")\n",
    "top_5_departamentos.show()"
   ]
  },
  {
   "cell_type": "code",
   "execution_count": null,
   "id": "1d5cb776",
   "metadata": {},
   "outputs": [],
   "source": [
    "# 4. Análisis de correlación entre el número de hogares y el valor asignado\n",
    "hogares_vs_valor = df.select('Hogares', 'Valor Asignado')\n",
    "correlacion = hogares_vs_valor.stat.corr('Hogares', 'Valor Asignado')\n",
    "print(f\"Correlación entre Hogares y Valor Asignado: {correlacion}\")"
   ]
  },
  {
   "cell_type": "code",
   "execution_count": null,
   "id": "369ca7a7",
   "metadata": {},
   "outputs": [],
   "source": [
    "# 5. Distribución de valores asignados por programa\n",
    "programas_distribucion = df.groupBy('Programa').agg(F.count('*').alias('Cantidad'), F.sum('Valor Asignado').alias('Total Asignado'))\n",
    "print(\"Distribución de valores asignados por programa:\")\n",
    "programas_distribucion.orderBy(F.col('Cantidad').desc()).show()"
   ]
  },
  {
   "cell_type": "code",
   "execution_count": null,
   "id": "9097e553",
   "metadata": {},
   "outputs": [],
   "source": [
    "# 6. Identificación de subsidios con valores extremadamente altos o bajos\n",
    "q1 = df.approxQuantile('Valor Asignado', [0.25], 0)[0]\n",
    "q3 = df.approxQuantile('Valor Asignado', [0.75], 0)[0]\n",
    "iqr = q3 - q1\n",
    "outliers_bajos = df.filter((F.col('Valor Asignado') < (q1 - 1.5*iqr)))\n",
    "outliers_altos = df.filter((F.col('Valor Asignado') > (q3 + 1.5*iqr)))\n",
    "\n",
    "print(\"Outliers de valores bajos:\")\n",
    "outliers_bajos.show()\n",
    "print(\"Outliers de valores altos:\")\n",
    "outliers_altos.show()"
   ]
  },
  {
   "cell_type": "code",
   "execution_count": null,
   "id": "0e651918",
   "metadata": {},
   "outputs": [],
   "source": [
    "# 7. Cálculo de la desviación estándar del valor asignado por departamento\n",
    "std_valor_departamento = df.groupBy('Departamento').agg(F.stddev('Valor Asignado').alias('Desviacion Estandar'))\n",
    "print(\"Desviación estándar del valor asignado por departamento:\")\n",
    "std_valor_departamento.orderBy(F.col('Desviacion Estandar').desc()).show()"
   ]
  }
 ],
 "metadata": {
  "kernelspec": {
   "display_name": "Python 3 (ipykernel)",
   "language": "python",
   "name": "python3"
  },
  "language_info": {
   "codemirror_mode": {
    "name": "ipython",
    "version": 3
   },
   "file_extension": ".py",
   "mimetype": "text/x-python",
   "name": "python",
   "nbconvert_exporter": "python",
   "pygments_lexer": "ipython3",
   "version": "3.12.4"
  }
 },
 "nbformat": 4,
 "nbformat_minor": 5
}
