{
    "cells": [
        {
            "cell_type": "markdown",
            "metadata": {},
            "source": [
                "# Productor Kafka para Datos de Sensores IoT\n",
                "\n",
                "Este notebook implementa un productor Kafka que genera y envía datos simulados de sensores IoT. Los datos incluyen:\n",
                "- ID del sensor\n",
                "- Temperatura\n",
                "- Humedad\n",
                "- Timestamp"
            ]
        },
        {
            "cell_type": "code",
            "execution_count": null,
            "metadata": {},
            "outputs": [],
            "source": [
                "# time: Para manejo de timestamps y delays\n",
                "# json: Para serialización de datos\n",
                "# random: Para generar datos aleatorios\n",
                "# KafkaProducer: Cliente productor de Kafka\n",
                "import time\n",
                "import json\n",
                "import random\n",
                "from kafka import KafkaProducer"
            ]
        },
        {
            "cell_type": "code",
            "execution_count": null,
            "metadata": {},
            "outputs": [],
            "source": [
                "# Simula datos de sensores IoT\n",
                "# Genera:\n",
                "# ID del sensor (1-10)\n",
                "# Temperatura (20-30°C)\n",
                "# Humedad (30-70%)\n",
                "# Timestamp actual\n",
                "# Usa round() para limitar decimales\n",
                "def generate_sensor_data():\n",
                "    return {\n",
                "        \"sensor_id\": random.randint(1, 10),\n",
                "        \"temperature\": round(random.uniform(20, 30), 2),\n",
                "        \"humidity\": round(random.uniform(30, 70), 2),\n",
                "        \"timestamp\": int(time.time())\n",
                "    }"
            ]
        },
        {
            "cell_type": "code",
            "execution_count": null,
            "metadata": {},
            "outputs": [],
            "source": [
                "# Conecta a Kafka en localhost:9092\n",
                "# value_serializer:\n",
                "#   Convierte los datos a JSON\n",
                "#   Codifica en UTF-8\n",
                "#   Se ejecuta automáticamente antes de enviar\n",
                "producer = KafkaProducer(\n",
                "    bootstrap_servers=['localhost:9092'],\n",
                "    value_serializer=lambda x: json.dumps(x).encode('utf-8')\n",
                ")"
            ]
        },
        {
            "cell_type": "code",
            "execution_count": null,
            "metadata": {},
            "outputs": [],
            "source": [
                "# Bucle infinito que:\n",
                "#   Genera nuevos datos\n",
                "#   Envía a topic 'sensor_data'\n",
                "#   Imprime los datos enviados\n",
                "#   Espera 1 segundo\n",
                "while True:\n",
                "    sensor_data = generate_sensor_data()\n",
                "    producer.send('sensor_data', value=sensor_data)\n",
                "    print(f\"Sent: {sensor_data}\")\n",
                "    time.sleep(1)"
            ]
        }
    ],
    "metadata": {
        "kernelspec": {
            "display_name": "Python 3",
            "language": "python",
            "name": "python3"
        },
        "language_info": {
            "codemirror_mode": {
                "name": "ipython",
                "version": 3
            },
            "file_extension": ".py",
            "mimetype": "text/x-python",
            "name": "python",
            "nbconvert_exporter": "python",
            "pygments_lexer": "ipython3",
            "version": "3.8.0"
        }
    },
    "nbformat": 4,
    "nbformat_minor": 5
}
