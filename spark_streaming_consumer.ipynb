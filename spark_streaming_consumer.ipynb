{
    "cells": [
        {
            "cell_type": "markdown",
            "metadata": {},
            "source": [
                "# Análisis de Streaming de Datos con Kafka y PySpark\n",
                "Este notebook implementa un sistema de procesamiento de datos en tiempo real usando Kafka y PySpark Streaming."
            ]
        },
        {
            "cell_type": "code",
            "execution_count": null,
            "metadata": {},
            "outputs": [],
            "source": [
                "# Importa las clases necesarias de PySpark\n",
                "from pyspark.sql import SparkSession\n",
                "from pyspark.sql.functions import from_json, col, window\n",
                "from pyspark.sql.types import StructType, StructField, IntegerType, FloatType, TimestampType\n",
                "import logging"
            ]
        },
        {
            "cell_type": "code",
            "execution_count": null,
            "metadata": {},
            "outputs": [],
            "source": [
                "# Configura el nivel de log a WARN para reducir los mensajes INFO\n",
                "spark = SparkSession.builder \\\n",
                "    .appName(\"KafkaSparkStreaming\") \\\n",
                "    .getOrCreate()\n",
                "spark.sparkContext.setLogLevel(\"WARN\")"
            ]
        },
        {
            "cell_type": "code",
            "execution_count": null,
            "metadata": {},
            "outputs": [],
            "source": [
                "# Define la estructura de los datos entrantes\n",
                "# Especifica tipos de datos para cada campo:\n",
                "#   sensor_id: Entero\n",
                "#   temperature: Flotante\n",
                "#   humidity: Flotante\n",
                "#   timestamp: Marca temporal\n",
                "schema = StructType([\n",
                "    StructField(\"sensor_id\", IntegerType()),\n",
                "    StructField(\"temperature\", FloatType()),\n",
                "    StructField(\"humidity\", FloatType()),\n",
                "    StructField(\"timestamp\", TimestampType())\n",
                "])"
            ]
        },
        {
            "cell_type": "code",
            "execution_count": null,
            "metadata": {},
            "outputs": [],
            "source": [
                "# Configura la lectura de streaming desde Kafka\n",
                "# Conecta al broker Kafka local\n",
                "# Suscribe al topic \"sensor_data\"\n",
                "df = spark \\\n",
                "    .readStream \\\n",
                "    .format(\"kafka\") \\\n",
                "    .option(\"kafka.bootstrap.servers\", \"localhost:9092\") \\\n",
                "    .option(\"subscribe\", \"sensor_data\") \\\n",
                "    .load()"
            ]
        },
        {
            "cell_type": "code",
            "execution_count": null,
            "metadata": {},
            "outputs": [],
            "source": [
                "# Parsea los mensajes JSON de Kafka\n",
                "# Convierte a DataFrame estructurado según el esquema definido\n",
                "parsed_df = df.select(\n",
                "    from_json(col(\"value\").cast(\"string\"), schema).alias(\"data\")\n",
                ").select(\"data.*\")"
            ]
        },
        {
            "cell_type": "code",
            "execution_count": null,
            "metadata": {},
            "outputs": [],
            "source": [
                "# Agrupa datos en ventanas de 1 minuto\n",
                "# Calcula promedios de temperatura y humedad por sensor\n",
                "# Utiliza ventanas deslizantes para análisis en tiempo real\n",
                "windowed_stats = parsed_df \\\n",
                "    .groupBy(window(col(\"timestamp\"), \"1 minute\"), \"sensor_id\") \\\n",
                "    .agg({\"temperature\": \"avg\", \"humidity\": \"avg\"})"
            ]
        },
        {
            "cell_type": "code",
            "execution_count": null,
            "metadata": {},
            "outputs": [],
            "source": [
                "# Configura la salida del streaming\n",
                "# Modo \"complete\": muestra todos los resultados agregados\n",
                "# Escribe resultados en la consola\n",
                "# Mantiene el streaming activo\n",
                "query = windowed_stats \\\n",
                "    .writeStream \\\n",
                "    .outputMode(\"complete\") \\\n",
                "    .format(\"console\") \\\n",
                "    .start()\n",
                "\n",
                "query.awaitTermination()"
            ]
        }
    ],
    "metadata": {
        "kernelspec": {
            "display_name": "Python 3",
            "language": "python",
            "name": "python3"
        },
        "language_info": {
            "codemirror_mode": {
                "name": "ipython",
                "version": 3
            },
            "file_extension": ".py",
            "mimetype": "text/x-python",
            "name": "python",
            "nbconvert_exporter": "python",
            "pygments_lexer": "ipython3",
            "version": "3.8.0"
        }
    },
    "nbformat": 4,
    "nbformat_minor": 5
}
