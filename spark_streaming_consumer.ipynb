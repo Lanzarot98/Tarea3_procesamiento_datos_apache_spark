{
    "cells": [
        {
            "cell_type": "code",
            "execution_count": null,
            "metadata": {},
            "outputs": [],
            "source": [
                "#Importamos librerias necesarias \n",
                "from pyspark.sql import SparkSession, functions as F"
            ]
        },
        {
            "cell_type": "code",
            "execution_count": null,
            "metadata": {},
            "outputs": [],
            "source": [
                "# Inicializa la sesión de Spark \n",
                "spark = SparkSession.builder.appName('Tarea3').getOrCreate()\n",
                "spark.conf.set(\"spark.sql.debug.maxToStringFields\", 100)"
            ]
        },
        {
            "cell_type": "code", 
            "execution_count": null,
            "metadata": {},
            "outputs": [],
            "source": [
                "# Define la ruta del archivo .csv en HDFS \n",
                "file_path = 'hdfs://localhost:9000/Tarea3/rows.csv'\n",
                "# Lee el archivo .csv \n",
                "df = spark.read.format('csv').option('header','true').option('inferSchema', 'true').load(file_path)"
            ]
        },
        {
            "cell_type": "code",
            "execution_count": null,
            "metadata": {},
            "outputs": [],
            "source": [
                "#imprimimos el esquema \n",
                "df.printSchema()\n",
                "# Muestra las primeras filas del DataFrame \n",
                "df.show()"
            ]
        },
        {
            "cell_type": "code",
            "execution_count": null, 
            "metadata": {},
            "outputs": [],
            "source": [
                "# Estadisticas básicas \n",
                "df.summary().show()"
            ]
        },
        {
            "cell_type": "code",
            "execution_count": null,
            "metadata": {},
            "outputs": [],
            "source": [
                "# Consulta: Filtrar por valor asignado mayor a 50000000 y seleccionar columnas relevantes\n",
                "print(\"Subsidios con valor mayor a 50000000\\n\")\n",
                "subsidios_filtrados = df.filter(F.col('Valor Asignado') > 50000000).select(\n",
                "    'Valor Asignado', 'Año de Asignación', 'Departamento', 'Municipio')\n",
                "subsidios_filtrados.show()"
            ]
        },
        {
            "cell_type": "code",
            "execution_count": null,
            "metadata": {},
            "outputs": [],
            "source": [
                "# Ordenar filas por los valores en la columna \"Valor Asignado\" en orden descendente\n",
                "print(\"Subsidios ordenados de mayor a menor por valor asignado\\n\")\n",
                "subsidios_ordenados = df.sort(F.col(\"Valor Asignado\").desc())\n",
                "subsidios_ordenados.show()"
            ]
        },
        {
            "cell_type": "code",
            "execution_count": null,
            "metadata": {},
            "outputs": [],
            "source": [
                "# Contar cuántos subsidios se asignaron por año\n",
                "print(\"Número de subsidios asignados por año\\n\")\n",
                "subsidios_por_anio = df.groupBy('Año de Asignación').count().orderBy('Año de Asignación')\n",
                "subsidios_por_anio.show()"
            ]
        },
        {
            "cell_type": "code",
            "execution_count": null,
            "metadata": {},
            "outputs": [],
            "source": [
                "# Suma total del valor asignado por departamento\n",
                "print(\"Suma total de valor asignado por departamento\\n\")\n",
                "valor_por_departamento = df.groupBy('Departamento').agg(F.sum('Valor Asignado').alias('Total Asignado')).orderBy(F.col('Total Asignado').desc())\n",
                "valor_por_departamento.show()"
            ]
        },
        {
            "cell_type": "code",
            "execution_count": null,
            "metadata": {},
            "outputs": [],
            "source": [
                "# Filtrar subsidios asignados a un departamento específico\n",
                "departamento_filtro = 'Antioquia'  # Puedes cambiar el valor\n",
                "estado_filtro = 'Asignados' # Puesdes cambiar el valor\n",
                "print(f\"Subsidios asignados en {departamento_filtro}\\n\")\n",
                "subsidios_departamento = df.filter((F.col('Departamento') == departamento_filtro)&(F.col('Estado de Postulación') == estado_filtro))\n",
                "subsidios_departamento.show()"
            ]
        },
        {
            "cell_type": "code",
            "execution_count": null,
            "metadata": {},
            "outputs": [],
            "source": [
                "# Identificar el municipio con mayor cantidad de subsidios\n",
                "print(\"Municipio con mayor cantidad de subsidios asignados\\n\")\n",
                "municipio_mas_subsidios = df.groupBy('Municipio').count().orderBy(F.col('count').desc()).limit(1)\n",
                "municipio_mas_subsidios.show()"
            ]
        },
        {
            "cell_type": "code",
            "execution_count": null,
            "metadata": {},
            "outputs": [],
            "source": [
                "# Valor promedio de los subsidios por año\n",
                "print(\"Valor promedio de subsidios por año\\n\")\n",
                "valor_promedio_anio = df.groupBy('Año de Asignación').agg(F.avg('Valor Asignado').alias('Valor Promedio')).orderBy('Año de Asignación')\n",
                "valor_promedio_anio.show()"
            ]
        },
        {
            "cell_type": "code",
            "execution_count": null,
            "metadata": {},
            "outputs": [],
            "source": [
                "# Filtrar subsidios por un rango de años (Ejemplo: 2015-2020)\n",
                "print(\"Subsidios asignados entre 2015 y 2020\\n\")\n",
                "subsidios_rango_anio = df.filter((F.col('Año de Asignación') >= 2015) & (F.col('Año de Asignación') <= 2020))\n",
                "subsidios_rango_anio.show()"
            ]
        }
    ],
    "metadata": {
        "kernelspec": {
            "display_name": "Python 3",
            "language": "python",
            "name": "python3"
        },
        "language_info": {
            "codemirror_mode": {
                "name": "ipython",
                "version": 3
            },
            "file_extension": ".py",
            "mimetype": "text/x-python",
            "name": "python",
            "nbconvert_exporter": "python",
            "pygments_lexer": "ipython3",
            "version": "3.8.0"
        }
    },
    "nbformat": 4,
    "nbformat_minor": 5
}
